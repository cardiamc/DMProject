{
 "cells": [
  {
   "cell_type": "code",
   "execution_count": 1,
   "metadata": {},
   "outputs": [],
   "source": [
    "import math\n",
    "import numpy as np\n",
    "import pandas as pd\n",
    "import scipy.stats as stats\n",
    "import matplotlib.pyplot as plt\n",
    "from sklearn.preprocessing import MinMaxScaler\n",
    "from scipy.stats import zscore\n",
    "from pandas.plotting import scatter_matrix\n",
    "from sklearn.preprocessing import LabelEncoder\n",
    "from mpl_toolkits.mplot3d import Axes3D"
   ]
  },
  {
   "cell_type": "markdown",
   "metadata": {},
   "source": [
    "## Data Encoding"
   ]
  },
  {
   "cell_type": "code",
   "execution_count": 2,
   "metadata": {},
   "outputs": [],
   "source": [
    "df = pd.read_csv(\"./datasets/step1_output.csv\")"
   ]
  },
  {
   "cell_type": "code",
   "execution_count": 3,
   "metadata": {},
   "outputs": [],
   "source": [
    "from sklearn.preprocessing import StandardScaler, MinMaxScaler\n",
    "from sklearn.preprocessing import LabelEncoder"
   ]
  },
  {
   "cell_type": "markdown",
   "metadata": {},
   "source": [
    "dropping useless columns"
   ]
  },
  {
   "cell_type": "code",
   "execution_count": 4,
   "metadata": {},
   "outputs": [],
   "source": [
    "color=df.color"
   ]
  },
  {
   "cell_type": "code",
   "execution_count": 5,
   "metadata": {},
   "outputs": [],
   "source": [
    "df=df.drop('color',axis=1)"
   ]
  },
  {
   "cell_type": "markdown",
   "metadata": {},
   "source": [
    "### Feature selection"
   ]
  },
  {
   "cell_type": "code",
   "execution_count": 6,
   "metadata": {},
   "outputs": [],
   "source": [
    "gender=df.gender\n",
    "df=df.drop('gender',axis=1)"
   ]
  },
  {
   "cell_type": "code",
   "execution_count": 7,
   "metadata": {},
   "outputs": [],
   "source": [
    "PhoneService=df.PhoneService\n",
    "df=df.drop('PhoneService',axis=1)"
   ]
  },
  {
   "cell_type": "code",
   "execution_count": 8,
   "metadata": {},
   "outputs": [
    {
     "data": {
      "text/plain": "array(['No phone service', 'No', 'Yes'], dtype=object)"
     },
     "execution_count": 8,
     "metadata": {},
     "output_type": "execute_result"
    }
   ],
   "source": [
    "df.MultipleLines.unique()"
   ]
  },
  {
   "cell_type": "code",
   "execution_count": 9,
   "metadata": {},
   "outputs": [],
   "source": [
    "df['PhoneService'] = df['MultipleLines'].map(\n",
    "    {'No phone service': 'No phone service', 'No': 'Single line', 'Yes': 'Multiple lines'}).astype(str)\n",
    "\n",
    "df=df.drop('MultipleLines',axis=1)"
   ]
  },
  {
   "cell_type": "code",
   "execution_count": 10,
   "metadata": {},
   "outputs": [],
   "source": [
    "df=df.drop(['OnlineSecurity','OnlineBackup','DeviceProtection'\n",
    "            ,'TechSupport','StreamingTV','StreamingMovies'],axis=1)"
   ]
  },
  {
   "cell_type": "code",
   "execution_count": 11,
   "metadata": {},
   "outputs": [],
   "source": [
    "df=df.drop('Partner',axis=1)"
   ]
  },
  {
   "cell_type": "code",
   "execution_count": 12,
   "metadata": {},
   "outputs": [],
   "source": [
    "# df.tenure=(df.tenure/12).astype(int)"
   ]
  },
  {
   "cell_type": "code",
   "execution_count": 13,
   "metadata": {},
   "outputs": [],
   "source": [
    "df.TotalCharges = df.TotalCharges.replace(' ',np.nan)\n",
    "df.TotalCharges=df.TotalCharges.astype(float)"
   ]
  },
  {
   "cell_type": "code",
   "execution_count": 14,
   "metadata": {},
   "outputs": [],
   "source": [
    "df=df.drop('TotalCharges',axis=1)"
   ]
  },
  {
   "cell_type": "code",
   "execution_count": 15,
   "metadata": {},
   "outputs": [],
   "source": [
    "# a, b=np.histogram(df['MonthlyCharges'],bins='fd')\n",
    "# b=b.astype(int)\n",
    "# b[-1]=b[-1]+1\n",
    "# df['MonthlyChargesBins']=pd.cut(df['MonthlyCharges'], b, right=False)"
   ]
  },
  {
   "cell_type": "code",
   "execution_count": 16,
   "metadata": {},
   "outputs": [],
   "source": [
    "# df['MonthlyChargesGroups']=df.MonthlyChargesBins.replace(np.sort(df.MonthlyChargesBins.unique()),np.arange(18))\n",
    "# df=df.drop(['MonthlyCharges','MonthlyChargesBins'],axis=1)"
   ]
  },
  {
   "cell_type": "code",
   "execution_count": 17,
   "metadata": {},
   "outputs": [],
   "source": [
    "df['SeniorCitizen'] = df['SeniorCitizen'].map(\n",
    "    {0: 'No', 1: 'Yes'}).astype(str)"
   ]
  },
  {
   "cell_type": "code",
   "execution_count": 18,
   "metadata": {},
   "outputs": [
    {
     "data": {
      "text/html": "<div>\n<style scoped>\n    .dataframe tbody tr th:only-of-type {\n        vertical-align: middle;\n    }\n\n    .dataframe tbody tr th {\n        vertical-align: top;\n    }\n\n    .dataframe thead th {\n        text-align: right;\n    }\n</style>\n<table border=\"1\" class=\"dataframe\">\n  <thead>\n    <tr style=\"text-align: right;\">\n      <th></th>\n      <th>SeniorCitizen</th>\n      <th>Dependents</th>\n      <th>tenure</th>\n      <th>InternetService</th>\n      <th>Contract</th>\n      <th>PaperlessBilling</th>\n      <th>PaymentMethod</th>\n      <th>MonthlyCharges</th>\n      <th>Churn</th>\n      <th>ServiceCount</th>\n      <th>PhoneService</th>\n    </tr>\n  </thead>\n  <tbody>\n    <tr>\n      <th>0</th>\n      <td>No</td>\n      <td>No</td>\n      <td>1</td>\n      <td>DSL</td>\n      <td>Month-to-month</td>\n      <td>Yes</td>\n      <td>Electronic check</td>\n      <td>29.85</td>\n      <td>No</td>\n      <td>1</td>\n      <td>No phone service</td>\n    </tr>\n    <tr>\n      <th>1</th>\n      <td>No</td>\n      <td>No</td>\n      <td>34</td>\n      <td>DSL</td>\n      <td>One year</td>\n      <td>No</td>\n      <td>Mailed check</td>\n      <td>56.95</td>\n      <td>No</td>\n      <td>2</td>\n      <td>Single line</td>\n    </tr>\n    <tr>\n      <th>2</th>\n      <td>No</td>\n      <td>No</td>\n      <td>2</td>\n      <td>DSL</td>\n      <td>Month-to-month</td>\n      <td>Yes</td>\n      <td>Mailed check</td>\n      <td>53.85</td>\n      <td>Yes</td>\n      <td>2</td>\n      <td>Single line</td>\n    </tr>\n    <tr>\n      <th>3</th>\n      <td>No</td>\n      <td>No</td>\n      <td>45</td>\n      <td>DSL</td>\n      <td>One year</td>\n      <td>No</td>\n      <td>Bank transfer (automatic)</td>\n      <td>42.30</td>\n      <td>No</td>\n      <td>3</td>\n      <td>No phone service</td>\n    </tr>\n    <tr>\n      <th>4</th>\n      <td>No</td>\n      <td>No</td>\n      <td>2</td>\n      <td>Fiber optic</td>\n      <td>Month-to-month</td>\n      <td>Yes</td>\n      <td>Electronic check</td>\n      <td>70.70</td>\n      <td>Yes</td>\n      <td>0</td>\n      <td>Single line</td>\n    </tr>\n  </tbody>\n</table>\n</div>",
      "text/plain": "  SeniorCitizen Dependents  tenure InternetService        Contract  \\\n0            No         No       1             DSL  Month-to-month   \n1            No         No      34             DSL        One year   \n2            No         No       2             DSL  Month-to-month   \n3            No         No      45             DSL        One year   \n4            No         No       2     Fiber optic  Month-to-month   \n\n  PaperlessBilling              PaymentMethod  MonthlyCharges Churn  \\\n0              Yes           Electronic check           29.85    No   \n1               No               Mailed check           56.95    No   \n2              Yes               Mailed check           53.85   Yes   \n3               No  Bank transfer (automatic)           42.30    No   \n4              Yes           Electronic check           70.70   Yes   \n\n   ServiceCount      PhoneService  \n0             1  No phone service  \n1             2       Single line  \n2             2       Single line  \n3             3  No phone service  \n4             0       Single line  "
     },
     "execution_count": 18,
     "metadata": {},
     "output_type": "execute_result"
    }
   ],
   "source": [
    "df.head()"
   ]
  },
  {
   "cell_type": "code",
   "execution_count": 20,
   "metadata": {},
   "outputs": [],
   "source": [
    "label_encoders = dict()\n",
    "column2encode = ['Dependents','InternetService','Contract',\n",
    "                 'PaperlessBilling','PaymentMethod','PhoneService']\n",
    "\n",
    "for col in column2encode:\n",
    "    le = LabelEncoder()\n",
    "    le.fit(df[col].unique())\n",
    "    df[col] = le.transform(df[col])\n",
    "    label_encoders[col] = le"
   ]
  },
  {
   "cell_type": "code",
   "execution_count": 19,
   "metadata": {},
   "outputs": [],
   "source": [
    "df.to_csv('./datasets/datasetFINALE.csv', index=False)"
   ]
  },
  {
   "cell_type": "code",
   "execution_count": 21,
   "metadata": {},
   "outputs": [
    {
     "data": {
      "text/html": "<div>\n<style scoped>\n    .dataframe tbody tr th:only-of-type {\n        vertical-align: middle;\n    }\n\n    .dataframe tbody tr th {\n        vertical-align: top;\n    }\n\n    .dataframe thead th {\n        text-align: right;\n    }\n</style>\n<table border=\"1\" class=\"dataframe\">\n  <thead>\n    <tr style=\"text-align: right;\">\n      <th></th>\n      <th>SeniorCitizen</th>\n      <th>Dependents</th>\n      <th>tenure</th>\n      <th>InternetService</th>\n      <th>Contract</th>\n      <th>PaperlessBilling</th>\n      <th>PaymentMethod</th>\n      <th>MonthlyCharges</th>\n      <th>Churn</th>\n      <th>ServiceCount</th>\n      <th>PhoneService</th>\n    </tr>\n  </thead>\n  <tbody>\n    <tr>\n      <th>0</th>\n      <td>No</td>\n      <td>0</td>\n      <td>1</td>\n      <td>0</td>\n      <td>0</td>\n      <td>1</td>\n      <td>2</td>\n      <td>29.85</td>\n      <td>No</td>\n      <td>1</td>\n      <td>1</td>\n    </tr>\n    <tr>\n      <th>1</th>\n      <td>No</td>\n      <td>0</td>\n      <td>34</td>\n      <td>0</td>\n      <td>1</td>\n      <td>0</td>\n      <td>3</td>\n      <td>56.95</td>\n      <td>No</td>\n      <td>2</td>\n      <td>2</td>\n    </tr>\n    <tr>\n      <th>2</th>\n      <td>No</td>\n      <td>0</td>\n      <td>2</td>\n      <td>0</td>\n      <td>0</td>\n      <td>1</td>\n      <td>3</td>\n      <td>53.85</td>\n      <td>Yes</td>\n      <td>2</td>\n      <td>2</td>\n    </tr>\n    <tr>\n      <th>3</th>\n      <td>No</td>\n      <td>0</td>\n      <td>45</td>\n      <td>0</td>\n      <td>1</td>\n      <td>0</td>\n      <td>0</td>\n      <td>42.30</td>\n      <td>No</td>\n      <td>3</td>\n      <td>1</td>\n    </tr>\n    <tr>\n      <th>4</th>\n      <td>No</td>\n      <td>0</td>\n      <td>2</td>\n      <td>1</td>\n      <td>0</td>\n      <td>1</td>\n      <td>2</td>\n      <td>70.70</td>\n      <td>Yes</td>\n      <td>0</td>\n      <td>2</td>\n    </tr>\n  </tbody>\n</table>\n</div>",
      "text/plain": "  SeniorCitizen  Dependents  tenure  InternetService  Contract  \\\n0            No           0       1                0         0   \n1            No           0      34                0         1   \n2            No           0       2                0         0   \n3            No           0      45                0         1   \n4            No           0       2                1         0   \n\n   PaperlessBilling  PaymentMethod  MonthlyCharges Churn  ServiceCount  \\\n0                 1              2           29.85    No             1   \n1                 0              3           56.95    No             2   \n2                 1              3           53.85   Yes             2   \n3                 0              0           42.30    No             3   \n4                 1              2           70.70   Yes             0   \n\n   PhoneService  \n0             1  \n1             2  \n2             2  \n3             1  \n4             2  "
     },
     "execution_count": 21,
     "metadata": {},
     "output_type": "execute_result"
    }
   ],
   "source": [
    "df.head()"
   ]
  },
  {
   "cell_type": "code",
   "execution_count": 22,
   "metadata": {},
   "outputs": [
    {
     "data": {
      "text/html": "<div>\n<style scoped>\n    .dataframe tbody tr th:only-of-type {\n        vertical-align: middle;\n    }\n\n    .dataframe tbody tr th {\n        vertical-align: top;\n    }\n\n    .dataframe thead th {\n        text-align: right;\n    }\n</style>\n<table border=\"1\" class=\"dataframe\">\n  <thead>\n    <tr style=\"text-align: right;\">\n      <th></th>\n      <th>Dependents</th>\n      <th>tenure</th>\n      <th>InternetService</th>\n      <th>Contract</th>\n      <th>PaperlessBilling</th>\n      <th>PaymentMethod</th>\n      <th>MonthlyCharges</th>\n      <th>ServiceCount</th>\n      <th>PhoneService</th>\n    </tr>\n  </thead>\n  <tbody>\n    <tr>\n      <th>count</th>\n      <td>7043.000000</td>\n      <td>7043.000000</td>\n      <td>7043.000000</td>\n      <td>7043.000000</td>\n      <td>7043.000000</td>\n      <td>7043.000000</td>\n      <td>7043.000000</td>\n      <td>7043.000000</td>\n      <td>7043.000000</td>\n    </tr>\n    <tr>\n      <th>mean</th>\n      <td>0.299588</td>\n      <td>32.371149</td>\n      <td>0.872923</td>\n      <td>0.690473</td>\n      <td>0.592219</td>\n      <td>1.574329</td>\n      <td>64.761692</td>\n      <td>2.037910</td>\n      <td>1.059492</td>\n    </tr>\n    <tr>\n      <th>std</th>\n      <td>0.458110</td>\n      <td>24.559481</td>\n      <td>0.737796</td>\n      <td>0.833755</td>\n      <td>0.491457</td>\n      <td>1.068104</td>\n      <td>30.090047</td>\n      <td>1.847682</td>\n      <td>0.948554</td>\n    </tr>\n    <tr>\n      <th>min</th>\n      <td>0.000000</td>\n      <td>0.000000</td>\n      <td>0.000000</td>\n      <td>0.000000</td>\n      <td>0.000000</td>\n      <td>0.000000</td>\n      <td>18.250000</td>\n      <td>0.000000</td>\n      <td>0.000000</td>\n    </tr>\n    <tr>\n      <th>25%</th>\n      <td>0.000000</td>\n      <td>9.000000</td>\n      <td>0.000000</td>\n      <td>0.000000</td>\n      <td>0.000000</td>\n      <td>1.000000</td>\n      <td>35.500000</td>\n      <td>0.000000</td>\n      <td>0.000000</td>\n    </tr>\n    <tr>\n      <th>50%</th>\n      <td>0.000000</td>\n      <td>29.000000</td>\n      <td>1.000000</td>\n      <td>0.000000</td>\n      <td>1.000000</td>\n      <td>2.000000</td>\n      <td>70.350000</td>\n      <td>2.000000</td>\n      <td>1.000000</td>\n    </tr>\n    <tr>\n      <th>75%</th>\n      <td>1.000000</td>\n      <td>55.000000</td>\n      <td>1.000000</td>\n      <td>1.000000</td>\n      <td>1.000000</td>\n      <td>2.000000</td>\n      <td>89.850000</td>\n      <td>3.000000</td>\n      <td>2.000000</td>\n    </tr>\n    <tr>\n      <th>max</th>\n      <td>1.000000</td>\n      <td>72.000000</td>\n      <td>2.000000</td>\n      <td>2.000000</td>\n      <td>1.000000</td>\n      <td>3.000000</td>\n      <td>118.750000</td>\n      <td>6.000000</td>\n      <td>2.000000</td>\n    </tr>\n  </tbody>\n</table>\n</div>",
      "text/plain": "        Dependents       tenure  InternetService     Contract  \\\ncount  7043.000000  7043.000000      7043.000000  7043.000000   \nmean      0.299588    32.371149         0.872923     0.690473   \nstd       0.458110    24.559481         0.737796     0.833755   \nmin       0.000000     0.000000         0.000000     0.000000   \n25%       0.000000     9.000000         0.000000     0.000000   \n50%       0.000000    29.000000         1.000000     0.000000   \n75%       1.000000    55.000000         1.000000     1.000000   \nmax       1.000000    72.000000         2.000000     2.000000   \n\n       PaperlessBilling  PaymentMethod  MonthlyCharges  ServiceCount  \\\ncount       7043.000000    7043.000000     7043.000000   7043.000000   \nmean           0.592219       1.574329       64.761692      2.037910   \nstd            0.491457       1.068104       30.090047      1.847682   \nmin            0.000000       0.000000       18.250000      0.000000   \n25%            0.000000       1.000000       35.500000      0.000000   \n50%            1.000000       2.000000       70.350000      2.000000   \n75%            1.000000       2.000000       89.850000      3.000000   \nmax            1.000000       3.000000      118.750000      6.000000   \n\n       PhoneService  \ncount   7043.000000  \nmean       1.059492  \nstd        0.948554  \nmin        0.000000  \n25%        0.000000  \n50%        1.000000  \n75%        2.000000  \nmax        2.000000  "
     },
     "execution_count": 22,
     "metadata": {},
     "output_type": "execute_result"
    }
   ],
   "source": [
    "df.describe()"
   ]
  },
  {
   "cell_type": "code",
   "execution_count": 23,
   "metadata": {},
   "outputs": [],
   "source": [
    "ddf = df\n",
    "column2decode = ['Dependents','InternetService','Contract',\n",
    "                 'PaperlessBilling','PaymentMethod','PhoneService']\n",
    "\n",
    "for col in column2decode:\n",
    "    ddf[col] = label_encoders[col].inverse_transform(df[col])"
   ]
  },
  {
   "cell_type": "code",
   "execution_count": 24,
   "metadata": {},
   "outputs": [
    {
     "data": {
      "text/html": "<div>\n<style scoped>\n    .dataframe tbody tr th:only-of-type {\n        vertical-align: middle;\n    }\n\n    .dataframe tbody tr th {\n        vertical-align: top;\n    }\n\n    .dataframe thead th {\n        text-align: right;\n    }\n</style>\n<table border=\"1\" class=\"dataframe\">\n  <thead>\n    <tr style=\"text-align: right;\">\n      <th></th>\n      <th>SeniorCitizen</th>\n      <th>Dependents</th>\n      <th>tenure</th>\n      <th>InternetService</th>\n      <th>Contract</th>\n      <th>PaperlessBilling</th>\n      <th>PaymentMethod</th>\n      <th>MonthlyCharges</th>\n      <th>Churn</th>\n      <th>ServiceCount</th>\n      <th>PhoneService</th>\n    </tr>\n  </thead>\n  <tbody>\n    <tr>\n      <th>0</th>\n      <td>No</td>\n      <td>No</td>\n      <td>1</td>\n      <td>DSL</td>\n      <td>Month-to-month</td>\n      <td>Yes</td>\n      <td>Electronic check</td>\n      <td>29.85</td>\n      <td>No</td>\n      <td>1</td>\n      <td>No phone service</td>\n    </tr>\n    <tr>\n      <th>1</th>\n      <td>No</td>\n      <td>No</td>\n      <td>34</td>\n      <td>DSL</td>\n      <td>One year</td>\n      <td>No</td>\n      <td>Mailed check</td>\n      <td>56.95</td>\n      <td>No</td>\n      <td>2</td>\n      <td>Single line</td>\n    </tr>\n    <tr>\n      <th>2</th>\n      <td>No</td>\n      <td>No</td>\n      <td>2</td>\n      <td>DSL</td>\n      <td>Month-to-month</td>\n      <td>Yes</td>\n      <td>Mailed check</td>\n      <td>53.85</td>\n      <td>Yes</td>\n      <td>2</td>\n      <td>Single line</td>\n    </tr>\n    <tr>\n      <th>3</th>\n      <td>No</td>\n      <td>No</td>\n      <td>45</td>\n      <td>DSL</td>\n      <td>One year</td>\n      <td>No</td>\n      <td>Bank transfer (automatic)</td>\n      <td>42.30</td>\n      <td>No</td>\n      <td>3</td>\n      <td>No phone service</td>\n    </tr>\n    <tr>\n      <th>4</th>\n      <td>No</td>\n      <td>No</td>\n      <td>2</td>\n      <td>Fiber optic</td>\n      <td>Month-to-month</td>\n      <td>Yes</td>\n      <td>Electronic check</td>\n      <td>70.70</td>\n      <td>Yes</td>\n      <td>0</td>\n      <td>Single line</td>\n    </tr>\n  </tbody>\n</table>\n</div>",
      "text/plain": "  SeniorCitizen Dependents  tenure InternetService        Contract  \\\n0            No         No       1             DSL  Month-to-month   \n1            No         No      34             DSL        One year   \n2            No         No       2             DSL  Month-to-month   \n3            No         No      45             DSL        One year   \n4            No         No       2     Fiber optic  Month-to-month   \n\n  PaperlessBilling              PaymentMethod  MonthlyCharges Churn  \\\n0              Yes           Electronic check           29.85    No   \n1               No               Mailed check           56.95    No   \n2              Yes               Mailed check           53.85   Yes   \n3               No  Bank transfer (automatic)           42.30    No   \n4              Yes           Electronic check           70.70   Yes   \n\n   ServiceCount      PhoneService  \n0             1  No phone service  \n1             2       Single line  \n2             2       Single line  \n3             3  No phone service  \n4             0       Single line  "
     },
     "execution_count": 24,
     "metadata": {},
     "output_type": "execute_result"
    }
   ],
   "source": [
    "ddf.head()"
   ]
  }
 ],
 "metadata": {
  "kernelspec": {
   "display_name": "Python 3",
   "language": "python",
   "name": "python3"
  },
  "language_info": {
   "codemirror_mode": {
    "name": "ipython",
    "version": 3
   },
   "file_extension": ".py",
   "mimetype": "text/x-python",
   "name": "python",
   "nbconvert_exporter": "python",
   "pygments_lexer": "ipython3",
   "version": "3.8.1-final"
  }
 },
 "nbformat": 4,
 "nbformat_minor": 2
}