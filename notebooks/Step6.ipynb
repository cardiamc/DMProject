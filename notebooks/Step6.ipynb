{
 "cells": [
  {
   "cell_type": "code",
   "execution_count": 1,
   "metadata": {},
   "outputs": [],
   "source": [
    "import math\n",
    "import numpy as np\n",
    "import pandas as pd\n",
    "import scipy.stats as stats\n",
    "import matplotlib.pyplot as plt\n",
    "from sklearn.preprocessing import MinMaxScaler\n",
    "from scipy.stats import zscore\n",
    "from pandas.plotting import scatter_matrix\n",
    "from sklearn.preprocessing import LabelEncoder\n",
    "from mpl_toolkits.mplot3d import Axes3D\n",
    "\n",
    "\n",
    "df = pd.read_csv(\"../datasets/datasetFINALE.csv\")"
   ]
  },
  {
   "cell_type": "code",
   "execution_count": 10,
   "metadata": {},
   "outputs": [],
   "source": [
    "from scipy.spatial.distance import euclidean\n",
    "from sklearn.metrics import jaccard_similarity_score as jaccard"
   ]
  },
  {
   "cell_type": "code",
   "execution_count": 3,
   "metadata": {},
   "outputs": [],
   "source": [
    "from sklearn.preprocessing import StandardScaler, MinMaxScaler"
   ]
  },
  {
   "cell_type": "code",
   "execution_count": 4,
   "metadata": {},
   "outputs": [],
   "source": [
    "scaler = MinMaxScaler()\n",
    "X = scaler.fit_transform(df[['tenure','MonthlyCharges','ServiceCount']].values)"
   ]
  },
  {
   "cell_type": "code",
   "execution_count": 5,
   "metadata": {},
   "outputs": [
    {
     "data": {
      "text/html": [
       "<div>\n",
       "<style scoped>\n",
       "    .dataframe tbody tr th:only-of-type {\n",
       "        vertical-align: middle;\n",
       "    }\n",
       "\n",
       "    .dataframe tbody tr th {\n",
       "        vertical-align: top;\n",
       "    }\n",
       "\n",
       "    .dataframe thead th {\n",
       "        text-align: right;\n",
       "    }\n",
       "</style>\n",
       "<table border=\"1\" class=\"dataframe\">\n",
       "  <thead>\n",
       "    <tr style=\"text-align: right;\">\n",
       "      <th></th>\n",
       "      <th>SeniorCitizen</th>\n",
       "      <th>Dependents</th>\n",
       "      <th>tenure</th>\n",
       "      <th>InternetService</th>\n",
       "      <th>Contract</th>\n",
       "      <th>PaperlessBilling</th>\n",
       "      <th>PaymentMethod</th>\n",
       "      <th>MonthlyCharges</th>\n",
       "      <th>Churn</th>\n",
       "      <th>ServiceCount</th>\n",
       "      <th>PhoneService</th>\n",
       "    </tr>\n",
       "  </thead>\n",
       "  <tbody>\n",
       "    <tr>\n",
       "      <th>0</th>\n",
       "      <td>No</td>\n",
       "      <td>No</td>\n",
       "      <td>0.013889</td>\n",
       "      <td>DSL</td>\n",
       "      <td>Month-to-month</td>\n",
       "      <td>Yes</td>\n",
       "      <td>Electronic check</td>\n",
       "      <td>0.115423</td>\n",
       "      <td>No</td>\n",
       "      <td>0.166667</td>\n",
       "      <td>No phone service</td>\n",
       "    </tr>\n",
       "    <tr>\n",
       "      <th>1</th>\n",
       "      <td>No</td>\n",
       "      <td>No</td>\n",
       "      <td>0.472222</td>\n",
       "      <td>DSL</td>\n",
       "      <td>One year</td>\n",
       "      <td>No</td>\n",
       "      <td>Mailed check</td>\n",
       "      <td>0.385075</td>\n",
       "      <td>No</td>\n",
       "      <td>0.333333</td>\n",
       "      <td>Single line</td>\n",
       "    </tr>\n",
       "    <tr>\n",
       "      <th>2</th>\n",
       "      <td>No</td>\n",
       "      <td>No</td>\n",
       "      <td>0.027778</td>\n",
       "      <td>DSL</td>\n",
       "      <td>Month-to-month</td>\n",
       "      <td>Yes</td>\n",
       "      <td>Mailed check</td>\n",
       "      <td>0.354229</td>\n",
       "      <td>Yes</td>\n",
       "      <td>0.333333</td>\n",
       "      <td>Single line</td>\n",
       "    </tr>\n",
       "    <tr>\n",
       "      <th>3</th>\n",
       "      <td>No</td>\n",
       "      <td>No</td>\n",
       "      <td>0.625000</td>\n",
       "      <td>DSL</td>\n",
       "      <td>One year</td>\n",
       "      <td>No</td>\n",
       "      <td>Bank transfer (automatic)</td>\n",
       "      <td>0.239303</td>\n",
       "      <td>No</td>\n",
       "      <td>0.500000</td>\n",
       "      <td>No phone service</td>\n",
       "    </tr>\n",
       "    <tr>\n",
       "      <th>4</th>\n",
       "      <td>No</td>\n",
       "      <td>No</td>\n",
       "      <td>0.027778</td>\n",
       "      <td>Fiber optic</td>\n",
       "      <td>Month-to-month</td>\n",
       "      <td>Yes</td>\n",
       "      <td>Electronic check</td>\n",
       "      <td>0.521891</td>\n",
       "      <td>Yes</td>\n",
       "      <td>0.000000</td>\n",
       "      <td>Single line</td>\n",
       "    </tr>\n",
       "  </tbody>\n",
       "</table>\n",
       "</div>"
      ],
      "text/plain": [
       "  SeniorCitizen Dependents    tenure InternetService        Contract  \\\n",
       "0            No         No  0.013889             DSL  Month-to-month   \n",
       "1            No         No  0.472222             DSL        One year   \n",
       "2            No         No  0.027778             DSL  Month-to-month   \n",
       "3            No         No  0.625000             DSL        One year   \n",
       "4            No         No  0.027778     Fiber optic  Month-to-month   \n",
       "\n",
       "  PaperlessBilling              PaymentMethod  MonthlyCharges Churn  \\\n",
       "0              Yes           Electronic check        0.115423    No   \n",
       "1               No               Mailed check        0.385075    No   \n",
       "2              Yes               Mailed check        0.354229   Yes   \n",
       "3               No  Bank transfer (automatic)        0.239303    No   \n",
       "4              Yes           Electronic check        0.521891   Yes   \n",
       "\n",
       "   ServiceCount      PhoneService  \n",
       "0      0.166667  No phone service  \n",
       "1      0.333333       Single line  \n",
       "2      0.333333       Single line  \n",
       "3      0.500000  No phone service  \n",
       "4      0.000000       Single line  "
      ]
     },
     "execution_count": 5,
     "metadata": {},
     "output_type": "execute_result"
    }
   ],
   "source": [
    "df[['tenure','MonthlyCharges','ServiceCount']] = X\n",
    "df.head()"
   ]
  },
  {
   "cell_type": "code",
   "execution_count": 6,
   "metadata": {},
   "outputs": [],
   "source": [
    "label_encoders = dict()\n",
    "column2encode = ['SeniorCitizen','Dependents','InternetService','Contract',\n",
    "                 'PaperlessBilling','PaymentMethod','PhoneService']\n",
    "\n",
    "for col in column2encode:\n",
    "    le = LabelEncoder()\n",
    "    le.fit(df[col].unique())\n",
    "    df[col] = le.transform(df[col])\n",
    "    label_encoders[col] = le"
   ]
  },
  {
   "cell_type": "code",
   "execution_count": 7,
   "metadata": {},
   "outputs": [
    {
     "data": {
      "text/html": [
       "<div>\n",
       "<style scoped>\n",
       "    .dataframe tbody tr th:only-of-type {\n",
       "        vertical-align: middle;\n",
       "    }\n",
       "\n",
       "    .dataframe tbody tr th {\n",
       "        vertical-align: top;\n",
       "    }\n",
       "\n",
       "    .dataframe thead th {\n",
       "        text-align: right;\n",
       "    }\n",
       "</style>\n",
       "<table border=\"1\" class=\"dataframe\">\n",
       "  <thead>\n",
       "    <tr style=\"text-align: right;\">\n",
       "      <th></th>\n",
       "      <th>SeniorCitizen</th>\n",
       "      <th>Dependents</th>\n",
       "      <th>tenure</th>\n",
       "      <th>InternetService</th>\n",
       "      <th>Contract</th>\n",
       "      <th>PaperlessBilling</th>\n",
       "      <th>PaymentMethod</th>\n",
       "      <th>MonthlyCharges</th>\n",
       "      <th>ServiceCount</th>\n",
       "      <th>PhoneService</th>\n",
       "    </tr>\n",
       "  </thead>\n",
       "  <tbody>\n",
       "    <tr>\n",
       "      <th>0</th>\n",
       "      <td>0</td>\n",
       "      <td>0</td>\n",
       "      <td>0.013889</td>\n",
       "      <td>0</td>\n",
       "      <td>0</td>\n",
       "      <td>1</td>\n",
       "      <td>2</td>\n",
       "      <td>0.115423</td>\n",
       "      <td>0.166667</td>\n",
       "      <td>1</td>\n",
       "    </tr>\n",
       "    <tr>\n",
       "      <th>1</th>\n",
       "      <td>0</td>\n",
       "      <td>0</td>\n",
       "      <td>0.472222</td>\n",
       "      <td>0</td>\n",
       "      <td>1</td>\n",
       "      <td>0</td>\n",
       "      <td>3</td>\n",
       "      <td>0.385075</td>\n",
       "      <td>0.333333</td>\n",
       "      <td>2</td>\n",
       "    </tr>\n",
       "    <tr>\n",
       "      <th>2</th>\n",
       "      <td>0</td>\n",
       "      <td>0</td>\n",
       "      <td>0.027778</td>\n",
       "      <td>0</td>\n",
       "      <td>0</td>\n",
       "      <td>1</td>\n",
       "      <td>3</td>\n",
       "      <td>0.354229</td>\n",
       "      <td>0.333333</td>\n",
       "      <td>2</td>\n",
       "    </tr>\n",
       "    <tr>\n",
       "      <th>3</th>\n",
       "      <td>0</td>\n",
       "      <td>0</td>\n",
       "      <td>0.625000</td>\n",
       "      <td>0</td>\n",
       "      <td>1</td>\n",
       "      <td>0</td>\n",
       "      <td>0</td>\n",
       "      <td>0.239303</td>\n",
       "      <td>0.500000</td>\n",
       "      <td>1</td>\n",
       "    </tr>\n",
       "    <tr>\n",
       "      <th>4</th>\n",
       "      <td>0</td>\n",
       "      <td>0</td>\n",
       "      <td>0.027778</td>\n",
       "      <td>1</td>\n",
       "      <td>0</td>\n",
       "      <td>1</td>\n",
       "      <td>2</td>\n",
       "      <td>0.521891</td>\n",
       "      <td>0.000000</td>\n",
       "      <td>2</td>\n",
       "    </tr>\n",
       "  </tbody>\n",
       "</table>\n",
       "</div>"
      ],
      "text/plain": [
       "   SeniorCitizen  Dependents    tenure  InternetService  Contract  \\\n",
       "0              0           0  0.013889                0         0   \n",
       "1              0           0  0.472222                0         1   \n",
       "2              0           0  0.027778                0         0   \n",
       "3              0           0  0.625000                0         1   \n",
       "4              0           0  0.027778                1         0   \n",
       "\n",
       "   PaperlessBilling  PaymentMethod  MonthlyCharges  ServiceCount  PhoneService  \n",
       "0                 1              2        0.115423      0.166667             1  \n",
       "1                 0              3        0.385075      0.333333             2  \n",
       "2                 1              3        0.354229      0.333333             2  \n",
       "3                 0              0        0.239303      0.500000             1  \n",
       "4                 1              2        0.521891      0.000000             2  "
      ]
     },
     "execution_count": 7,
     "metadata": {},
     "output_type": "execute_result"
    }
   ],
   "source": [
    "target=df.Churn\n",
    "df=df.drop('Churn',axis=1)\n",
    "df.head()"
   ]
  },
  {
   "cell_type": "code",
   "execution_count": 8,
   "metadata": {},
   "outputs": [
    {
     "data": {
      "text/html": [
       "<div>\n",
       "<style scoped>\n",
       "    .dataframe tbody tr th:only-of-type {\n",
       "        vertical-align: middle;\n",
       "    }\n",
       "\n",
       "    .dataframe tbody tr th {\n",
       "        vertical-align: top;\n",
       "    }\n",
       "\n",
       "    .dataframe thead th {\n",
       "        text-align: right;\n",
       "    }\n",
       "</style>\n",
       "<table border=\"1\" class=\"dataframe\">\n",
       "  <thead>\n",
       "    <tr style=\"text-align: right;\">\n",
       "      <th></th>\n",
       "      <th>SeniorCitizen</th>\n",
       "      <th>Dependents</th>\n",
       "      <th>InternetService</th>\n",
       "      <th>Contract</th>\n",
       "      <th>PaperlessBilling</th>\n",
       "      <th>PaymentMethod</th>\n",
       "      <th>PhoneService</th>\n",
       "      <th>tenure</th>\n",
       "      <th>MonthlyCharges</th>\n",
       "      <th>ServiceCount</th>\n",
       "    </tr>\n",
       "  </thead>\n",
       "  <tbody>\n",
       "    <tr>\n",
       "      <th>0</th>\n",
       "      <td>0</td>\n",
       "      <td>0</td>\n",
       "      <td>0</td>\n",
       "      <td>0</td>\n",
       "      <td>1</td>\n",
       "      <td>2</td>\n",
       "      <td>1</td>\n",
       "      <td>0.013889</td>\n",
       "      <td>0.115423</td>\n",
       "      <td>0.166667</td>\n",
       "    </tr>\n",
       "    <tr>\n",
       "      <th>1</th>\n",
       "      <td>0</td>\n",
       "      <td>0</td>\n",
       "      <td>0</td>\n",
       "      <td>1</td>\n",
       "      <td>0</td>\n",
       "      <td>3</td>\n",
       "      <td>2</td>\n",
       "      <td>0.472222</td>\n",
       "      <td>0.385075</td>\n",
       "      <td>0.333333</td>\n",
       "    </tr>\n",
       "    <tr>\n",
       "      <th>2</th>\n",
       "      <td>0</td>\n",
       "      <td>0</td>\n",
       "      <td>0</td>\n",
       "      <td>0</td>\n",
       "      <td>1</td>\n",
       "      <td>3</td>\n",
       "      <td>2</td>\n",
       "      <td>0.027778</td>\n",
       "      <td>0.354229</td>\n",
       "      <td>0.333333</td>\n",
       "    </tr>\n",
       "    <tr>\n",
       "      <th>3</th>\n",
       "      <td>0</td>\n",
       "      <td>0</td>\n",
       "      <td>0</td>\n",
       "      <td>1</td>\n",
       "      <td>0</td>\n",
       "      <td>0</td>\n",
       "      <td>1</td>\n",
       "      <td>0.625000</td>\n",
       "      <td>0.239303</td>\n",
       "      <td>0.500000</td>\n",
       "    </tr>\n",
       "    <tr>\n",
       "      <th>4</th>\n",
       "      <td>0</td>\n",
       "      <td>0</td>\n",
       "      <td>1</td>\n",
       "      <td>0</td>\n",
       "      <td>1</td>\n",
       "      <td>2</td>\n",
       "      <td>2</td>\n",
       "      <td>0.027778</td>\n",
       "      <td>0.521891</td>\n",
       "      <td>0.000000</td>\n",
       "    </tr>\n",
       "  </tbody>\n",
       "</table>\n",
       "</div>"
      ],
      "text/plain": [
       "   SeniorCitizen  Dependents  InternetService  Contract  PaperlessBilling  \\\n",
       "0              0           0                0         0                 1   \n",
       "1              0           0                0         1                 0   \n",
       "2              0           0                0         0                 1   \n",
       "3              0           0                0         1                 0   \n",
       "4              0           0                1         0                 1   \n",
       "\n",
       "   PaymentMethod  PhoneService    tenure  MonthlyCharges  ServiceCount  \n",
       "0              2             1  0.013889        0.115423      0.166667  \n",
       "1              3             2  0.472222        0.385075      0.333333  \n",
       "2              3             2  0.027778        0.354229      0.333333  \n",
       "3              0             1  0.625000        0.239303      0.500000  \n",
       "4              2             2  0.027778        0.521891      0.000000  "
      ]
     },
     "execution_count": 8,
     "metadata": {},
     "output_type": "execute_result"
    }
   ],
   "source": [
    "numerici=df[['tenure','MonthlyCharges','ServiceCount']]\n",
    "df=df.drop(['tenure','MonthlyCharges','ServiceCount'],axis=1)\n",
    "df[['tenure','MonthlyCharges','ServiceCount']]=numerici\n",
    "df.head()"
   ]
  },
  {
   "cell_type": "code",
   "execution_count": 2,
   "metadata": {},
   "outputs": [],
   "source": [
    "def my_dist(x,y):\n",
    "    n_num=3\n",
    "    n_cat=7\n",
    "    return (n_num/(n_num+n_cat))*euclidean(x[n_cat:(n_num+n_cat)],y[n_cat:(n_num+n_cat)])+(n_cat/(n_num+n_cat))*hamming(x[:n_cat],y[:n_cat])"
   ]
  },
  {
   "cell_type": "code",
   "execution_count": 11,
   "metadata": {},
   "outputs": [],
   "source": [
    "from scipy.spatial.distance import pdist, squareform\n",
    "from scipy.spatial import distance\n",
    "from sklearn.metrics import jaccard_similarity_score\n",
    "from scipy.spatial.distance import hamming as hamming"
   ]
  },
  {
   "cell_type": "code",
   "execution_count": 12,
   "metadata": {},
   "outputs": [],
   "source": [
    "dist=pdist(df.values,my_dist)"
   ]
  },
  {
   "cell_type": "code",
   "execution_count": 13,
   "metadata": {},
   "outputs": [],
   "source": [
    "dist_square = squareform(dist)"
   ]
  },
  {
   "cell_type": "code",
   "execution_count": 14,
   "metadata": {},
   "outputs": [],
   "source": [
    "df[['tenure','MonthlyCharges','ServiceCount']]=scaler.inverse_transform(df[['tenure','MonthlyCharges','ServiceCount']].values)"
   ]
  },
  {
   "cell_type": "markdown",
   "metadata": {},
   "source": [
    "Hierarchical"
   ]
  },
  {
   "cell_type": "code",
   "execution_count": 62,
   "metadata": {},
   "outputs": [],
   "source": [
    "from scipy.stats import mode\n",
    "from scipy.spatial.distance import pdist\n",
    "from scipy.cluster.hierarchy import linkage, dendrogram, fcluster\n",
    "from sklearn.metrics import silhouette_score"
   ]
  },
  {
   "cell_type": "code",
   "execution_count": 69,
   "metadata": {
    "scrolled": true
   },
   "outputs": [
    {
     "data": {
      "image/png": "[encoded data removed]",
      "text/plain": [
       "<Figure size 576x360 with 1 Axes>"
      ]
     },
     "metadata": {
      "needs_background": "light"
     },
     "output_type": "display_data"
    }
   ],
   "source": [
    "f = plt.figure(figsize=(8,5))\n",
    "ax = f.add_subplot(1,1,1)\n",
    "\n",
    "data_link = linkage(dist, method='complete', metric='precomputed')\n",
    "res = dendrogram(data_link, color_threshold=1.1, truncate_mode='lastp')\n",
    "\n",
    "plt.ylabel('Distances', fontsize=16)\n",
    "plt.xlabel('', fontsize=16)\n",
    "plt.xticks()\n",
    "plt.tick_params(axis='both', which='major', labelsize=10)\n",
    "\n",
    "plt.grid(color='w')\n",
    "ax.set_axisbelow(True)\n",
    "ax.set_facecolor('#E0E0E0')\n",
    "plt.title('Cost by K', fontsize=22)\n",
    "\n",
    "plt.grid(color='w')\n",
    "ax.set_axisbelow(True)\n",
    "ax.set_facecolor('#E0E0E0')\n",
    "plt.title('Dendrogram method complete', fontsize=22)\n",
    "\n",
    "plt.savefig('dendogram_complete.png')"
   ]
  },
  {
   "cell_type": "code",
   "execution_count": 39,
   "metadata": {},
   "outputs": [
    {
     "name": "stdout",
     "output_type": "stream",
     "text": [
      "Clusters: 5\n"
     ]
    },
    {
     "data": {
      "text/plain": [
       "[1959, 1544, 1495, 1247, 798]"
      ]
     },
     "execution_count": 39,
     "metadata": {},
     "output_type": "execute_result"
    }
   ],
   "source": [
    "conta = {}\n",
    "\n",
    "for c in fcluster(data_link, t=1.1, criterion='distance'):\n",
    "    if c not in conta:\n",
    "        conta[c] = 0\n",
    "    conta[c] += 1\n",
    "\n",
    "print(\"Clusters:\", len(conta.keys()))\n",
    "list(reversed(sorted(conta.values())))"
   ]
  },
  {
   "cell_type": "code",
   "execution_count": 45,
   "metadata": {
    "scrolled": true
   },
   "outputs": [
    {
     "data": {
      "text/plain": [
       "0.16888734228139946"
      ]
     },
     "execution_count": 45,
     "metadata": {},
     "output_type": "execute_result"
    }
   ],
   "source": [
    "score = silhouette_score(dist_square, fcluster(data_link, t=1.1, criterion='distance'))\n",
    "score"
   ]
  },
  {
   "cell_type": "code",
   "execution_count": 70,
   "metadata": {
    "scrolled": true
   },
   "outputs": [
    {
     "data": {
      "image/png": "[encoded data removed]",
      "text/plain": [
       "<Figure size 576x360 with 1 Axes>"
      ]
     },
     "metadata": {
      "needs_background": "light"
     },
     "output_type": "display_data"
    }
   ],
   "source": [
    "f = plt.figure(figsize=(8,5))\n",
    "ax = f.add_subplot(1,1,1)\n",
    "\n",
    "data_link = linkage(dist, method='single', metric='precomputed')\n",
    "res = dendrogram(data_link, color_threshold=0.175, truncate_mode='lastp')\n",
    "\n",
    "plt.ylabel('Distances', fontsize=16)\n",
    "plt.xlabel('', fontsize=16)\n",
    "plt.xticks()\n",
    "plt.tick_params(axis='both', which='major', labelsize=10)\n",
    "\n",
    "plt.grid(color='w')\n",
    "ax.set_axisbelow(True)\n",
    "ax.set_facecolor('#E0E0E0')\n",
    "plt.title('Cost by K', fontsize=22)\n",
    "\n",
    "plt.grid(color='w')\n",
    "ax.set_axisbelow(True)\n",
    "ax.set_facecolor('#E0E0E0')\n",
    "plt.title('Dendrogram method single', fontsize=22)\n",
    "\n",
    "plt.savefig('dendogram_single.png')"
   ]
  },
  {
   "cell_type": "code",
   "execution_count": 48,
   "metadata": {},
   "outputs": [
    {
     "name": "stdout",
     "output_type": "stream",
     "text": [
      "Clusters: 5\n"
     ]
    },
    {
     "data": {
      "text/plain": [
       "[7039, 1, 1, 1, 1]"
      ]
     },
     "execution_count": 48,
     "metadata": {},
     "output_type": "execute_result"
    }
   ],
   "source": [
    "conta = {}\n",
    "\n",
    "for c in fcluster(data_link, t=0.175, criterion='distance'):\n",
    "    if c not in conta:\n",
    "        conta[c] = 0\n",
    "    conta[c] += 1\n",
    "\n",
    "print(\"Clusters:\", len(conta.keys()))\n",
    "list(reversed(sorted(conta.values())))"
   ]
  },
  {
   "cell_type": "code",
   "execution_count": 50,
   "metadata": {},
   "outputs": [
    {
     "data": {
      "text/plain": [
       "-0.20707665132731687"
      ]
     },
     "execution_count": 50,
     "metadata": {},
     "output_type": "execute_result"
    }
   ],
   "source": [
    "score = silhouette_score(dist_square, fcluster(data_link, t=0.175, criterion='distance'))\n",
    "score"
   ]
  },
  {
   "cell_type": "code",
   "execution_count": 71,
   "metadata": {
    "scrolled": true
   },
   "outputs": [
    {
     "data": {
      "image/png": "[encoded data removed]",
      "text/plain": [
       "<Figure size 576x360 with 1 Axes>"
      ]
     },
     "metadata": {
      "needs_background": "light"
     },
     "output_type": "display_data"
    }
   ],
   "source": [
    "f = plt.figure(figsize=(8,5))\n",
    "ax = f.add_subplot(1,1,1)\n",
    "\n",
    "data_link = linkage(dist, method='weighted', metric='precomputed')\n",
    "res = dendrogram(data_link, color_threshold=0.56, truncate_mode='lastp')\n",
    "\n",
    "plt.ylabel('Distances', fontsize=16)\n",
    "plt.xlabel('', fontsize=16)\n",
    "plt.xticks()\n",
    "plt.tick_params(axis='both', which='major', labelsize=10)\n",
    "\n",
    "plt.grid(color='w')\n",
    "ax.set_axisbelow(True)\n",
    "ax.set_facecolor('#E0E0E0')\n",
    "plt.title('Cost by K', fontsize=22)\n",
    "\n",
    "plt.grid(color='w')\n",
    "ax.set_axisbelow(True)\n",
    "ax.set_facecolor('#E0E0E0')\n",
    "plt.title('Dendrogram method weighted', fontsize=22)\n",
    "\n",
    "plt.savefig('dendogram_weighted.png')"
   ]
  },
  {
   "cell_type": "code",
   "execution_count": 54,
   "metadata": {},
   "outputs": [
    {
     "name": "stdout",
     "output_type": "stream",
     "text": [
      "Clusters: 5\n"
     ]
    },
    {
     "data": {
      "text/plain": [
       "[3087, 1526, 1083, 757, 590]"
      ]
     },
     "execution_count": 54,
     "metadata": {},
     "output_type": "execute_result"
    }
   ],
   "source": [
    "conta = {}\n",
    "\n",
    "for c in fcluster(data_link, t=0.56, criterion='distance'):\n",
    "    if c not in conta:\n",
    "        conta[c] = 0\n",
    "    conta[c] += 1\n",
    "\n",
    "print(\"Clusters:\", len(conta.keys()))\n",
    "list(reversed(sorted(conta.values())))"
   ]
  },
  {
   "cell_type": "code",
   "execution_count": 55,
   "metadata": {},
   "outputs": [
    {
     "data": {
      "text/plain": [
       "0.30397243918308475"
      ]
     },
     "execution_count": 55,
     "metadata": {},
     "output_type": "execute_result"
    }
   ],
   "source": [
    "score = silhouette_score(dist_square, fcluster(data_link, t=0.56, criterion='distance'))\n",
    "score"
   ]
  },
  {
   "cell_type": "code",
   "execution_count": 74,
   "metadata": {
    "scrolled": true
   },
   "outputs": [
    {
     "data": {
      "image/png": "[encoded data removed]",
      "text/plain": [
       "<Figure size 576x360 with 1 Axes>"
      ]
     },
     "metadata": {
      "needs_background": "light"
     },
     "output_type": "display_data"
    }
   ],
   "source": [
    "f = plt.figure(figsize=(8,5))\n",
    "ax = f.add_subplot(1,1,1)\n",
    "\n",
    "data_link = linkage(dist, method='average', metric='precomputed')\n",
    "res = dendrogram(data_link, color_threshold=0.55, truncate_mode='lastp')\n",
    "\n",
    "plt.ylabel('Distances', fontsize=16)\n",
    "plt.xlabel('', fontsize=16)\n",
    "plt.xticks()\n",
    "plt.tick_params(axis='both', which='major', labelsize=10)\n",
    "\n",
    "plt.grid(color='w')\n",
    "ax.set_axisbelow(True)\n",
    "ax.set_facecolor('#E0E0E0')\n",
    "plt.title('Cost by K', fontsize=22)\n",
    "\n",
    "plt.grid(color='w')\n",
    "ax.set_axisbelow(True)\n",
    "ax.set_facecolor('#E0E0E0')\n",
    "plt.title('Dendrogram method average', fontsize=22)\n",
    "\n",
    "plt.savefig('dendogram_average.png')"
   ]
  },
  {
   "cell_type": "code",
   "execution_count": 57,
   "metadata": {},
   "outputs": [
    {
     "name": "stdout",
     "output_type": "stream",
     "text": [
      "Clusters: 5\n"
     ]
    },
    {
     "data": {
      "text/plain": [
       "[3335, 1526, 1157, 940, 85]"
      ]
     },
     "execution_count": 57,
     "metadata": {},
     "output_type": "execute_result"
    }
   ],
   "source": [
    "conta = {}\n",
    "\n",
    "for c in fcluster(data_link, t=0.55, criterion='distance'):\n",
    "    if c not in conta:\n",
    "        conta[c] = 0\n",
    "    conta[c] += 1\n",
    "\n",
    "print(\"Clusters:\", len(conta.keys()))\n",
    "list(reversed(sorted(conta.values())))"
   ]
  },
  {
   "cell_type": "code",
   "execution_count": 58,
   "metadata": {},
   "outputs": [
    {
     "data": {
      "text/plain": [
       "0.1720961814411519"
      ]
     },
     "execution_count": 58,
     "metadata": {},
     "output_type": "execute_result"
    }
   ],
   "source": [
    "score = silhouette_score(dist_square, fcluster(data_link, t=0.55, criterion='distance'))\n",
    "score"
   ]
  },
  {
   "cell_type": "code",
   "execution_count": 73,
   "metadata": {
    "scrolled": true
   },
   "outputs": [
    {
     "data": {
      "image/png": "[encoded data removed]",
      "text/plain": [
       "<Figure size 576x360 with 1 Axes>"
      ]
     },
     "metadata": {
      "needs_background": "light"
     },
     "output_type": "display_data"
    }
   ],
   "source": [
    "f = plt.figure(figsize=(8,5))\n",
    "ax = f.add_subplot(1,1,1)\n",
    "\n",
    "data_link = linkage(dist, method='ward', metric='precomputed')\n",
    "res = dendrogram(data_link, color_threshold=10, truncate_mode='lastp')\n",
    "\n",
    "plt.ylabel('Distances', fontsize=16)\n",
    "plt.xlabel('', fontsize=16)\n",
    "plt.xticks()\n",
    "plt.tick_params(axis='both', which='major', labelsize=10)\n",
    "\n",
    "plt.grid(color='w')\n",
    "ax.set_axisbelow(True)\n",
    "ax.set_facecolor('#E0E0E0')\n",
    "plt.title('Cost by K', fontsize=22)\n",
    "\n",
    "plt.grid(color='w')\n",
    "ax.set_axisbelow(True)\n",
    "ax.set_facecolor('#E0E0E0')\n",
    "plt.title('Dendrogram method ward', fontsize=22)\n",
    "\n",
    "plt.savefig('dendogram_ward.png')"
   ]
  },
  {
   "cell_type": "code",
   "execution_count": 60,
   "metadata": {},
   "outputs": [
    {
     "name": "stdout",
     "output_type": "stream",
     "text": [
      "Clusters: 5\n"
     ]
    },
    {
     "data": {
      "text/plain": [
       "[2124, 1526, 1269, 1152, 972]"
      ]
     },
     "execution_count": 60,
     "metadata": {},
     "output_type": "execute_result"
    }
   ],
   "source": [
    "conta = {}\n",
    "\n",
    "for c in fcluster(data_link, t=10, criterion='distance'):\n",
    "    if c not in conta:\n",
    "        conta[c] = 0\n",
    "    conta[c] += 1\n",
    "\n",
    "print(\"Clusters:\", len(conta.keys()))\n",
    "list(reversed(sorted(conta.values())))"
   ]
  },
  {
   "cell_type": "code",
   "execution_count": 61,
   "metadata": {},
   "outputs": [
    {
     "data": {
      "text/plain": [
       "0.2091524668262429"
      ]
     },
     "execution_count": 61,
     "metadata": {},
     "output_type": "execute_result"
    }
   ],
   "source": [
    "score = silhouette_score(dist_square, fcluster(data_link, t=10, criterion='distance'))\n",
    "score"
   ]
  },
  {
   "cell_type": "code",
   "execution_count": null,
   "metadata": {},
   "outputs": [],
   "source": []
  }
 ],
 "metadata": {
  "kernelspec": {
   "display_name": "Python 3",
   "language": "python",
   "name": "python3"
  },
  "language_info": {
   "codemirror_mode": {
    "name": "ipython",
    "version": 3
   },
   "file_extension": ".py",
   "mimetype": "text/x-python",
   "name": "python",
   "nbconvert_exporter": "python",
   "pygments_lexer": "ipython3",
   "version": "3.7.0"
  }
 },
 "nbformat": 4,
 "nbformat_minor": 2
}